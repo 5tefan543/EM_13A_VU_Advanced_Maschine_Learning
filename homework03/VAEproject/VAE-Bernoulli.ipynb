{
 "cells": [
  {
   "cell_type": "markdown",
   "id": "e941b9b9-8283-4679-ad70-195e7408011d",
   "metadata": {
    "tags": []
   },
   "source": [
    "# VAE for a single binary pixel"
   ]
  },
  {
   "cell_type": "code",
   "execution_count": 1,
   "id": "ad8ae1ac",
   "metadata": {},
   "outputs": [],
   "source": [
    "import torch\n",
    "from torch import nn\n",
    "import BernoulliDatastream as data\n",
    "import numpy as np\n",
    "from torch.utils.data import DataLoader\n",
    "from AEML import AEML\n",
    "from VAEBase import VAEBase"
   ]
  },
  {
   "cell_type": "markdown",
   "id": "345a9434-2cb4-44ad-b926-2a0ddb768c65",
   "metadata": {},
   "source": [
    "`VAENormal` is a base class of all our variational autoencoders. Write your code between the two pairs of `YOUR CODE HERE` comments.\n",
    "\n",
    "- `VAENormal.forward()` receives an input image `x`, `enc_...()`odes it, etc., and returns the result of `self.dec()`.\n",
    "- `BernoulliLoss.__call__()` returns the scalar loss associated with the generated Bernoulli parameter array `xz` and the input image `x`.\n",
    "\n",
    "Both methods actually receive a *batch* of images in the form of a `torch.Tensor` whose first dimension runs over the instances. Except for the computation of the scalar end result of the loss function, your code should hardly have to care; it should mostly read like it receives individual images.\n",
    "\n",
    "The same solution should work for all exercises."
   ]
  },
  {
   "cell_type": "code",
   "execution_count": 2,
   "id": "57a47f92-6540-4fbf-a043-453ac9c3c80a",
   "metadata": {},
   "outputs": [],
   "source": [
    "class VAENormal(VAEBase):\n",
    "    def __init__(self, enc_mu, enc_logsigma, dec):\n",
    "        super(VAENormal, self).__init__()\n",
    "        self.distrib_pz = torch.distributions.Normal(0, 1) # q(z|x), p(z)\n",
    "        self.enc_mu = enc_mu\n",
    "        self.enc_logsigma = enc_logsigma\n",
    "        self.dec = dec\n",
    "\n",
    "    def forward(self, x):\n",
    "        x = nn.Flatten()(x)\n",
    "        ### BEGIN YOUR CODE HERE\n",
    "        # get latent parameters from encoder\n",
    "        self.mu = self.enc_mu(x)\n",
    "        self.logsigma = self.enc_logsigma(x)\n",
    "        self.sigma = torch.exp(self.logsigma)\n",
    "\n",
    "        # sample from q(z|x)\n",
    "        epsilon = torch.randn_like(self.mu)\n",
    "        z = self.mu + self.sigma * epsilon\n",
    "\n",
    "        return self.dec(z)\n",
    "        ### END YOUR CODE HERE\n",
    "\n",
    "    def encode_mu(self, x):\n",
    "        return self.enc_mu(nn.Flatten()(x))\n",
    "\n",
    "\n",
    "class BernoulliLoss: # p(x|z) is Bernoulli; q(z|x) and p(z) are Normal\n",
    "    def __init__(self, vae):\n",
    "        self.vae = vae\n",
    "        self.BCE = nn.BCELoss(reduction='none')\n",
    "\n",
    "    def __call__(self, xz, x):\n",
    "        ### BEGIN YOUR CODE HERE\n",
    "        x = nn.Flatten()(x)\n",
    "        reconstruction_loss = torch.sum(self.BCE(xz, x), dim=1)  # sum over pixels\n",
    "\n",
    "        kl_div = 1/2 * torch.sum(self.vae.mu**2 + self.vae.sigma**2 - torch.log(self.vae.sigma**2) - 1, dim=1)\n",
    "        \n",
    "        return torch.mean(reconstruction_loss) + torch.mean(kl_div)\n",
    "        ### END YOUR CODE HERE"
   ]
  },
  {
   "cell_type": "markdown",
   "id": "a7e4671f-07f5-49ef-a7eb-e48d02cefea8",
   "metadata": {},
   "source": [
    "This class is derived from `VAENormal` which is in turn derived from `nn.Module` and implements the common parts of a basic VAE neural-network model:"
   ]
  },
  {
   "cell_type": "code",
   "execution_count": 3,
   "id": "6ecef3ee",
   "metadata": {
    "tags": []
   },
   "outputs": [],
   "source": [
    "class VAE(VAENormal):\n",
    "    def __init__(self):\n",
    "        super(VAE, self).__init__(\n",
    "            # Normal paramters of q(z|x):\n",
    "            enc_mu = nn.Linear(1, 1),\n",
    "            enc_logsigma = nn.Linear(1, 1),\n",
    "            # Bernoulli parameter of p(x|z):\n",
    "            dec = nn.Sequential(nn.Linear(1, 1), nn.Sigmoid())\n",
    "        )\n",
    "        \n",
    "    def init(self, p):          # p_Bernoulli\n",
    "        self.enc_mu.weight       = nn.Parameter(torch.tensor([[1.0]]))\n",
    "        self.enc_mu.bias         = nn.Parameter(torch.tensor([-0.5]))\n",
    "        self.enc_logsigma.weight = nn.Parameter(torch.tensor([[0.0]]))\n",
    "        self.enc_logsigma.bias   = nn.Parameter(torch.log(torch.tensor([0.5])))\n",
    "        self.dec[0].bias = nn.Parameter(torch.log(torch.tensor([p / (1-p)])))\n",
    "        self.init_dec_weight()\n",
    "\n",
    "    def init_dec_weight(self):\n",
    "        # This weight is the decisive parameter;\n",
    "        # if it is large enough, the above can be left random:\n",
    "        self.dec[0].weight = nn.Parameter(torch.tensor([[10.0]]))\n",
    "\n",
    "    def print_params(this):\n",
    "        for name, param in this.named_parameters():\n",
    "            print(f\"{name:20s} {param.item():9.6f}\")"
   ]
  },
  {
   "cell_type": "markdown",
   "id": "09c89f62-fe1a-4cf1-a126-9b528901df2e",
   "metadata": {},
   "source": [
    "## Before training, possibly with manually-initialized weights\n",
    "\n",
    "This implements a loss function that counts mismatching pixels:"
   ]
  },
  {
   "cell_type": "code",
   "execution_count": 4,
   "id": "e1e2a33e",
   "metadata": {},
   "outputs": [],
   "source": [
    "class AccuracyLoss:      # not suitable for training, only for testing\n",
    "    def __init__(self, vae):\n",
    "        self.vae = vae\n",
    "\n",
    "    def __call__(self, xz, x):\n",
    "        # proportion of false reconstructions\n",
    "        return (torch.abs(xz - x) > 0.5).sum() / len(xz)"
   ]
  },
  {
   "cell_type": "markdown",
   "id": "698d1678-9b24-435b-aa0e-0e8bc8dcfc0d",
   "metadata": {},
   "source": [
    "Create an autoencoder model **initialized in a given way**, and display its weights:"
   ]
  },
  {
   "cell_type": "code",
   "execution_count": 5,
   "id": "c6a97b6c",
   "metadata": {},
   "outputs": [
    {
     "name": "stdout",
     "output_type": "stream",
     "text": [
      "enc_mu.weight         1.000000\n",
      "enc_mu.bias          -0.500000\n",
      "enc_logsigma.weight   0.000000\n",
      "enc_logsigma.bias    -0.693147\n",
      "dec.0.weight         10.000000\n",
      "dec.0.bias            0.000000\n"
     ]
    }
   ],
   "source": [
    "model = VAE()\n",
    "p_Bernoulli = 0.5               # play with this\n",
    "model.init(p_Bernoulli)             # try this\n",
    "#model.init_dec_weight()     # or this, or neither\n",
    "model.print_params()\n",
    "N = 1024"
   ]
  },
  {
   "cell_type": "markdown",
   "id": "e93ab834-6f35-45a3-9858-12e68cdc433b",
   "metadata": {},
   "source": [
    "### Untrained Decoder\n",
    "\n",
    "This helper function generates Bernoulli output parameters $\\textrm{dec}(z)$ by sampling $z \\sim p(z)$, and collects them in a histogram:"
   ]
  },
  {
   "cell_type": "code",
   "execution_count": 6,
   "id": "65c032be",
   "metadata": {},
   "outputs": [],
   "source": [
    "def generate(model, N):\n",
    "    vals = np.zeros(N)\n",
    "    for i in range(N):\n",
    "        vals[i] = model.sample(1)\n",
    "    print(np.histogram(vals, range=(0, 1))[0], (vals > 0.5).sum() / N)"
   ]
  },
  {
   "cell_type": "markdown",
   "id": "a760e02a-56e6-408e-9836-bc4700d7daea",
   "metadata": {},
   "source": [
    "Show Bernoulli output parameters first by sampling $z \\sim p(z)$ and then by sampling $z$ from a regular grid:"
   ]
  },
  {
   "cell_type": "code",
   "execution_count": 7,
   "id": "e3e213cc",
   "metadata": {},
   "outputs": [
    {
     "name": "stdout",
     "output_type": "stream",
     "text": [
      "[449  32  24  17  18  20   9  20  37 398] 0.47265625\n"
     ]
    },
    {
     "data": {
      "image/png": "[encoded data removed]",
      "text/plain": [
       "<Figure size 640x480 with 64 Axes>"
      ]
     },
     "metadata": {},
     "output_type": "display_data"
    },
    {
     "data": {
      "image/png": "[encoded data removed]",
      "text/plain": [
       "<Figure size 640x120 with 9 Axes>"
      ]
     },
     "metadata": {},
     "output_type": "display_data"
    }
   ],
   "source": [
    "generate(model, N)\n",
    "model.plotDecRandom(1)\n",
    "model.plotDecGrid(1)"
   ]
  },
  {
   "cell_type": "markdown",
   "id": "9dd0dd14-31a6-4713-881b-8b02f8634b38",
   "metadata": {},
   "source": [
    "How can we **sharpen the generator**?\n",
    "\n",
    "- by moving the means of the $q_{\\phi}(z|x)$ further apart\n",
    "- by tightening the variances of the $q_{\\phi}(z|x)$\n",
    "\n",
    "### Untrained Encoder\n",
    "\n",
    "Now let's watch our encoder in action. Create an untrainable `AEML` instance to allow us to easily generate data using the `BernoulliDatastream`, encode $N$ generated instances $x_n$, and display the $\\textrm{enc}(x_n)$ in 1D $z$ space:"
   ]
  },
  {
   "cell_type": "code",
   "execution_count": 8,
   "id": "dcadca5e",
   "metadata": {},
   "outputs": [
    {
     "data": {
      "image/png": "[encoded data removed]",
      "text/plain": [
       "<Figure size 640x180 with 1 Axes>"
      ]
     },
     "metadata": {},
     "output_type": "display_data"
    }
   ],
   "source": [
    "mltest = AEML(DataLoader(data.BernoulliDatastream(p_Bernoulli, N)),\n",
    "              model, AccuracyLoss(model), None)\n",
    "mltest.plotEncDataset()"
   ]
  },
  {
   "cell_type": "markdown",
   "id": "b2af963f-4e02-4fff-9653-20d16081b26c",
   "metadata": {},
   "source": [
    "### Untrained round-trip evaluation\n",
    "\n",
    "Run our model on $N$ test instances and check the proportion of false reconstructions:"
   ]
  },
  {
   "cell_type": "code",
   "execution_count": 9,
   "id": "642dbd50-e912-4edb-8038-325757fe1eda",
   "metadata": {},
   "outputs": [
    {
     "name": "stdout",
     "output_type": "stream",
     "text": [
      "test_loss=0.164\n"
     ]
    }
   ],
   "source": [
    "print(f\"test_loss={mltest.test():.3f}\")"
   ]
  },
  {
   "cell_type": "markdown",
   "id": "fc5aee7e-9f32-4ebe-8f6d-c21782338ed3",
   "metadata": {
    "tags": []
   },
   "source": [
    "## Training\n",
    "\n",
    "Now instantiate a trainable `AEML` instance for a Bernoulli $p_{\\theta}(x|z)$ and an Adam optimizer.\n",
    "\n",
    "Train it for some epochs, displaying the proportion of false reconstructions on a test run after each epoch:"
   ]
  },
  {
   "cell_type": "code",
   "execution_count": 14,
   "id": "9876c94f",
   "metadata": {},
   "outputs": [
    {
     "name": "stdout",
     "output_type": "stream",
     "text": [
      "Epoch   0 final_train_loss=0.500 test_loss=0.091\n",
      "Epoch   1 final_train_loss=0.501 test_loss=0.109\n",
      "Epoch   2 final_train_loss=0.526 test_loss=0.101\n",
      "Epoch   3 final_train_loss=0.519 test_loss=0.096\n",
      "Epoch   4 final_train_loss=0.542 test_loss=0.090\n",
      "Epoch   5 final_train_loss=1.061 test_loss=0.111\n",
      "Epoch   6 final_train_loss=0.534 test_loss=0.094\n",
      "Epoch   7 final_train_loss=0.547 test_loss=0.119\n",
      "Epoch   8 final_train_loss=0.916 test_loss=0.122\n",
      "Epoch   9 final_train_loss=0.737 test_loss=0.112\n",
      "Epoch  10 final_train_loss=0.569 test_loss=0.100\n",
      "Epoch  11 final_train_loss=0.471 test_loss=0.130\n",
      "Epoch  12 final_train_loss=0.565 test_loss=0.110\n",
      "Epoch  13 final_train_loss=0.918 test_loss=0.118\n",
      "Epoch  14 final_train_loss=0.517 test_loss=0.097\n",
      "Epoch  15 final_train_loss=0.633 test_loss=0.111\n",
      "Epoch  16 final_train_loss=0.719 test_loss=0.120\n",
      "Epoch  17 final_train_loss=0.510 test_loss=0.107\n",
      "Epoch  18 final_train_loss=1.021 test_loss=0.108\n",
      "Epoch  19 final_train_loss=0.894 test_loss=0.108\n",
      "Epoch  20 final_train_loss=0.538 test_loss=0.117\n",
      "Epoch  21 final_train_loss=0.688 test_loss=0.116\n",
      "Epoch  22 final_train_loss=0.795 test_loss=0.097\n",
      "Epoch  23 final_train_loss=0.706 test_loss=0.118\n",
      "Epoch  24 final_train_loss=0.750 test_loss=0.117\n",
      "Epoch  25 final_train_loss=0.780 test_loss=0.116\n",
      "Epoch  26 final_train_loss=0.785 test_loss=0.105\n",
      "Epoch  27 final_train_loss=0.520 test_loss=0.126\n",
      "Epoch  28 final_train_loss=0.601 test_loss=0.123\n",
      "Epoch  29 final_train_loss=0.713 test_loss=0.115\n",
      "Epoch  30 final_train_loss=0.790 test_loss=0.122\n",
      "Epoch  31 final_train_loss=0.714 test_loss=0.112\n",
      "Epoch  32 final_train_loss=0.768 test_loss=0.117\n",
      "Epoch  33 final_train_loss=0.466 test_loss=0.130\n",
      "Epoch  34 final_train_loss=0.452 test_loss=0.129\n",
      "Epoch  35 final_train_loss=0.490 test_loss=0.118\n",
      "Epoch  36 final_train_loss=0.948 test_loss=0.130\n",
      "Epoch  37 final_train_loss=0.651 test_loss=0.136\n",
      "Epoch  38 final_train_loss=1.175 test_loss=0.144\n",
      "Epoch  39 final_train_loss=0.647 test_loss=0.122\n",
      "Epoch  40 final_train_loss=0.489 test_loss=0.120\n",
      "Epoch  41 final_train_loss=0.450 test_loss=0.143\n",
      "Epoch  42 final_train_loss=0.780 test_loss=0.111\n",
      "Epoch  43 final_train_loss=0.490 test_loss=0.137\n",
      "Epoch  44 final_train_loss=0.690 test_loss=0.138\n",
      "Epoch  45 final_train_loss=0.554 test_loss=0.147\n",
      "Epoch  46 final_train_loss=0.654 test_loss=0.130\n",
      "Epoch  47 final_train_loss=0.444 test_loss=0.124\n",
      "Epoch  48 final_train_loss=0.589 test_loss=0.140\n",
      "Epoch  49 final_train_loss=0.761 test_loss=0.125\n",
      "Epoch  50 final_train_loss=1.002 test_loss=0.148\n",
      "Epoch  51 final_train_loss=0.458 test_loss=0.122\n",
      "Epoch  52 final_train_loss=0.713 test_loss=0.146\n",
      "Epoch  53 final_train_loss=0.497 test_loss=0.138\n",
      "Epoch  54 final_train_loss=0.780 test_loss=0.140\n",
      "Epoch  55 final_train_loss=0.585 test_loss=0.146\n",
      "Epoch  56 final_train_loss=0.979 test_loss=0.167\n",
      "Epoch  57 final_train_loss=0.902 test_loss=0.144\n",
      "Epoch  58 final_train_loss=0.984 test_loss=0.140\n",
      "Epoch  59 final_train_loss=0.932 test_loss=0.146\n",
      "Epoch  60 final_train_loss=0.514 test_loss=0.158\n",
      "Epoch  61 final_train_loss=0.921 test_loss=0.138\n",
      "Epoch  62 final_train_loss=0.584 test_loss=0.130\n",
      "Epoch  63 final_train_loss=0.591 test_loss=0.160\n",
      "Epoch  64 final_train_loss=0.947 test_loss=0.147\n",
      "Epoch  65 final_train_loss=0.720 test_loss=0.149\n",
      "Epoch  66 final_train_loss=0.734 test_loss=0.152\n",
      "Epoch  67 final_train_loss=0.980 test_loss=0.144\n",
      "Epoch  68 final_train_loss=0.936 test_loss=0.142\n",
      "Epoch  69 final_train_loss=0.850 test_loss=0.151\n",
      "Epoch  70 final_train_loss=0.484 test_loss=0.155\n",
      "Epoch  71 final_train_loss=0.466 test_loss=0.143\n",
      "Epoch  72 final_train_loss=1.120 test_loss=0.170\n",
      "Epoch  73 final_train_loss=0.532 test_loss=0.116\n",
      "Epoch  74 final_train_loss=1.009 test_loss=0.163\n",
      "Epoch  75 final_train_loss=0.686 test_loss=0.155\n",
      "Epoch  76 final_train_loss=0.470 test_loss=0.160\n",
      "Epoch  77 final_train_loss=0.404 test_loss=0.146\n",
      "Epoch  78 final_train_loss=0.575 test_loss=0.147\n",
      "Epoch  79 final_train_loss=0.657 test_loss=0.136\n",
      "Epoch  80 final_train_loss=0.631 test_loss=0.142\n",
      "Epoch  81 final_train_loss=0.447 test_loss=0.149\n",
      "Epoch  82 final_train_loss=0.798 test_loss=0.171\n",
      "Epoch  83 final_train_loss=0.587 test_loss=0.160\n",
      "Epoch  84 final_train_loss=0.613 test_loss=0.163\n",
      "Epoch  85 final_train_loss=0.559 test_loss=0.180\n",
      "Epoch  86 final_train_loss=0.591 test_loss=0.171\n",
      "Epoch  87 final_train_loss=0.724 test_loss=0.146\n",
      "Epoch  88 final_train_loss=0.824 test_loss=0.177\n",
      "Epoch  89 final_train_loss=0.884 test_loss=0.153\n",
      "Epoch  90 final_train_loss=0.814 test_loss=0.183\n",
      "Epoch  91 final_train_loss=0.639 test_loss=0.169\n",
      "Epoch  92 final_train_loss=0.589 test_loss=0.173\n",
      "Epoch  93 final_train_loss=0.579 test_loss=0.178\n",
      "Epoch  94 final_train_loss=0.808 test_loss=0.190\n",
      "Epoch  95 final_train_loss=0.643 test_loss=0.167\n",
      "Epoch  96 final_train_loss=0.462 test_loss=0.170\n",
      "Epoch  97 final_train_loss=0.566 test_loss=0.162\n",
      "Epoch  98 final_train_loss=0.512 test_loss=0.172\n",
      "Epoch  99 final_train_loss=0.713 test_loss=0.188\n",
      "enc_mu.weight         1.365610\n",
      "enc_mu.bias          -0.684269\n",
      "enc_logsigma.weight   0.006807\n",
      "enc_logsigma.bias    -0.346161\n",
      "dec.0.weight          2.878285\n",
      "dec.0.bias            0.029131\n"
     ]
    }
   ],
   "source": [
    "ml = AEML(DataLoader(data.BernoulliDatastream(p_Bernoulli, 1024),\n",
    "                     batch_size = 8),\n",
    "          model,\n",
    "          BernoulliLoss(model),\n",
    "          torch.optim.Adam(model.parameters(), lr=1e-3))\n",
    "\n",
    "n_epochs = 100\n",
    "for epoch in range(n_epochs):\n",
    "    final_train_loss = ml.train()\n",
    "    test_loss = mltest.test()\n",
    "    print(f\"Epoch{epoch:4d} {final_train_loss=:.3f} {test_loss=:.3f}\")\n",
    "model.print_params()"
   ]
  },
  {
   "cell_type": "markdown",
   "id": "e5471978-8c07-494c-bcaa-9199a873969e",
   "metadata": {},
   "source": [
    "Now visualize again the encoder and decoder, this time of the trained model:"
   ]
  },
  {
   "cell_type": "code",
   "execution_count": 15,
   "id": "fb0bddb2",
   "metadata": {},
   "outputs": [
    {
     "data": {
      "image/png": "[encoded data removed]",
      "text/plain": [
       "<Figure size 640x180 with 1 Axes>"
      ]
     },
     "metadata": {},
     "output_type": "display_data"
    }
   ],
   "source": [
    "ml.plotEncDataset()"
   ]
  },
  {
   "cell_type": "code",
   "execution_count": 16,
   "id": "7e02051f-7e22-41d0-9c2f-b21dca9ad413",
   "metadata": {},
   "outputs": [
    {
     "name": "stdout",
     "output_type": "stream",
     "text": [
      "[250 101  89  61  45  37  56  74  82 229] 0.466796875\n"
     ]
    },
    {
     "data": {
      "image/png": "[encoded data removed]",
      "text/plain": [
       "<Figure size 640x480 with 64 Axes>"
      ]
     },
     "metadata": {},
     "output_type": "display_data"
    },
    {
     "data": {
      "image/png": "[encoded data removed]",
      "text/plain": [
       "<Figure size 640x120 with 9 Axes>"
      ]
     },
     "metadata": {},
     "output_type": "display_data"
    }
   ],
   "source": [
    "generate(model, N)\n",
    "model.plotDecRandom(1)\n",
    "model.plotDecGrid(1)"
   ]
  },
  {
   "cell_type": "markdown",
   "id": "680f5cdd-7b99-4e4c-bed6-02e5855d103d",
   "metadata": {},
   "source": [
    "Show some inputs and corresponding reconstructed outputs:"
   ]
  },
  {
   "cell_type": "code",
   "execution_count": 17,
   "id": "671d4fbb-a38f-4c1a-8210-eb10c168b522",
   "metadata": {
    "tags": []
   },
   "outputs": [
    {
     "data": {
      "image/png": "[encoded data removed]",
      "text/plain": [
       "<Figure size 640x180 with 16 Axes>"
      ]
     },
     "metadata": {},
     "output_type": "display_data"
    }
   ],
   "source": [
    "ml.plotReconDataset()"
   ]
  },
  {
   "cell_type": "markdown",
   "id": "2a36d80b-a8ed-471a-ba89-50f74e7202d9",
   "metadata": {},
   "source": [
    "What happens if we **change the population Bernoulli $p$ parameter** away from $1/2$?"
   ]
  },
  {
   "cell_type": "code",
   "execution_count": null,
   "id": "31321aba-22ae-44c5-aa99-6015f690055b",
   "metadata": {},
   "outputs": [],
   "source": []
  }
 ],
 "metadata": {
  "kernelspec": {
   "display_name": ".venv",
   "language": "python",
   "name": "python3"
  },
  "language_info": {
   "codemirror_mode": {
    "name": "ipython",
    "version": 3
   },
   "file_extension": ".py",
   "mimetype": "text/x-python",
   "name": "python",
   "nbconvert_exporter": "python",
   "pygments_lexer": "ipython3",
   "version": "3.12.3"
  },
  "toc-autonumbering": false,
  "toc-showcode": false,
  "toc-showmarkdowntxt": false,
  "toc-showtags": true
 },
 "nbformat": 4,
 "nbformat_minor": 5
}
